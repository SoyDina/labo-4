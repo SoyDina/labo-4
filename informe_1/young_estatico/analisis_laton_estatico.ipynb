{
 "cells": [
  {
   "cell_type": "markdown",
   "id": "06b1910c",
   "metadata": {},
   "source": [
    "## Análisis de los datos del patrón de diffracción para la vara de latón"
   ]
  },
  {
   "cell_type": "markdown",
   "id": "881820ad",
   "metadata": {},
   "source": [
    "Importamos librerías"
   ]
  },
  {
   "cell_type": "code",
   "execution_count": 2,
   "id": "ca4d303e",
   "metadata": {},
   "outputs": [],
   "source": [
    "import imageio\n",
    "import numpy as np\n",
    "import matplotlib.pyplot as plt\n",
    "import matplotlib.patches as patches\n",
    "from scipy import optimize\n",
    "from scipy import signal\n",
    "from scipy import ndimage\n",
    "import matplotlib\n"
   ]
  },
  {
   "cell_type": "markdown",
   "id": "9b9aa274",
   "metadata": {},
   "source": [
    "Importamos la imagen que vamos a usar para calibrar."
   ]
  },
  {
   "cell_type": "code",
   "execution_count": 13,
   "id": "c2e1e9e9",
   "metadata": {},
   "outputs": [],
   "source": [
    "calibracion = imageio.imread('grilla_cali_rojo.jpg')\n",
    "\n",
    "r = calibracion[:,:,0]\n",
    "g = calibracion[:,:,1]\n",
    "b = calibracion[:,:,1]\n"
   ]
  },
  {
   "cell_type": "code",
   "execution_count": 14,
   "id": "d3a1b744",
   "metadata": {},
   "outputs": [
    {
     "name": "stderr",
     "output_type": "stream",
     "text": [
      "/home/dina/environments/labo_4/lib/python3.8/site-packages/numpy/core/fromnumeric.py:3419: RuntimeWarning: Mean of empty slice.\n",
      "  return _methods._mean(a, axis=axis, dtype=dtype,\n",
      "/home/dina/environments/labo_4/lib/python3.8/site-packages/numpy/core/_methods.py:188: RuntimeWarning: invalid value encountered in double_scalars\n",
      "  ret = ret.dtype.type(ret / rcount)\n",
      "/home/dina/environments/labo_4/lib/python3.8/site-packages/numpy/core/_methods.py:261: RuntimeWarning: Degrees of freedom <= 0 for slice\n",
      "  ret = _var(a, axis=axis, dtype=dtype, out=out, ddof=ddof,\n",
      "/home/dina/environments/labo_4/lib/python3.8/site-packages/numpy/core/_methods.py:221: RuntimeWarning: invalid value encountered in true_divide\n",
      "  arrmean = um.true_divide(arrmean, div, out=arrmean, casting='unsafe',\n",
      "/home/dina/environments/labo_4/lib/python3.8/site-packages/numpy/core/_methods.py:253: RuntimeWarning: invalid value encountered in double_scalars\n",
      "  ret = ret.dtype.type(ret / rcount)\n"
     ]
    }
   ],
   "source": [
    "%matplotlib qt\n",
    "matplotlib.use(\"Qt5Agg\")\n",
    "plt.imshow(r)\n",
    "escala = plt.ginput(5)\n",
    "dist_med = []\n",
    "for i in range(len(escala)-1):\n",
    "    dist_med.append(np.linalg.norm((escala[i+1], escala[i])))\n",
    "\n",
    "\n",
    "escala_de_verded = np.mean(dist_med)\n",
    "err_escala = 2*np.std(np.diff(dist_med))\n",
    "esc = 145.20236051247952\n",
    "err_esc = 5.936078079715683\n"
   ]
  },
  {
   "cell_type": "code",
   "execution_count": 7,
   "id": "8c1f5ee8",
   "metadata": {},
   "outputs": [],
   "source": [
    "imagenes = []\n",
    "for i in range(10):\n",
    "    imagenes.append(imageio.imread('~/facultad/labo_4/git_labo_4/informe_1/young_estatico/data/datos_laton/datosrojo' + str(i+1)+'.jpg'))"
   ]
  },
  {
   "cell_type": "code",
   "execution_count": 8,
   "id": "8073cd98",
   "metadata": {},
   "outputs": [],
   "source": [
    "r = imagenes[0][:,:,0]\n",
    "g = imagenes[0][:,:,1]\n",
    "b = imagenes[0][:,:,1]\n",
    "\n",
    "# plt.imshow(r)\n",
    "# plt.figure()\n",
    "# plt.imshow(im_0_rotada[0:900, 200:400])\n",
    "# plt.axvline(106)\n",
    "\n",
    "im_0_rotada = ndimage.rotate(r, 1)\n",
    "im_r_rec = im_0_rotada[:,200:400]"
   ]
  },
  {
   "cell_type": "code",
   "execution_count": 9,
   "id": "cf6df7a6",
   "metadata": {},
   "outputs": [
    {
     "data": {
      "text/plain": [
       "[<matplotlib.lines.Line2D at 0x7fdd600e1190>]"
      ]
     },
     "execution_count": 9,
     "metadata": {},
     "output_type": "execute_result"
    }
   ],
   "source": [
    "datos_a = []\n",
    "for i in range(len(im_r_rec)):\n",
    "    datos_a.append(sum(im_r_rec[i])/esc)\n",
    "\n",
    "\n",
    "x_escalado = np.linspace(0,len(datos_a)/esc, 871)\n",
    "plt.figure()\n",
    "plt.plot(x_escalado,np.array(datos_a[7:878]))\n",
    "\n",
    "plt.figure()\n",
    "plt.plot(datos_a)"
   ]
  },
  {
   "cell_type": "code",
   "execution_count": 10,
   "id": "bf887cb6",
   "metadata": {},
   "outputs": [],
   "source": [
    "im_r = []\n",
    "for i in range(len(imagenes)):\n",
    "    im_r.append((imagenes[i][:,:,0]))\n",
    "\n",
    "im_r[0] = ndimage.rotate(im_r[0],1)\n",
    "im_r[1] = ndimage.rotate(im_r[1],1)\n",
    "for i in range(4):\n",
    "    im_r[i+2] = ndimage.rotate(im_r[i+2], 3)\n",
    "\n",
    "for i in range(4):\n",
    "    im_r[i+6] = ndimage.rotate(im_r[i+6],5)\n",
    "    \n",
    "for i in range(len(im_r)):\n",
    "    im_r[i] = im_r[i][:,200:450]\n",
    "\n",
    "datos = []\n",
    "for i in range(len(im_r)):\n",
    "    data = []\n",
    "    for j in range(len(im_r[i])):\n",
    "        data.append(sum(im_r[i][j]))\n",
    "    datos.append(data)"
   ]
  },
  {
   "cell_type": "code",
   "execution_count": 11,
   "id": "da3e3336",
   "metadata": {},
   "outputs": [],
   "source": [
    "for i in range(len(datos)):\n",
    "    if i<3:\n",
    "        plt.figure()\n",
    "        x_esc = np.linspace(0,len(datos[i])/esc, 871)\n",
    "        plt.plot(x_esc,datos[i][7:878])\n",
    "        plt.xlabel('mm')\n",
    "    elif i>2 and i<6:\n",
    "        plt.figure()\n",
    "        x_esc = np.linspace(0, len(datos[i])/esc, 790)\n",
    "        plt.plot(x_esc, datos[i][40:830])\n",
    "        plt.xlabel('mm')\n",
    "    else:\n",
    "        plt.figure()\n",
    "        x_esc = np.linspace(0, len(datos[i])/esc, 730)\n",
    "        plt.plot(x_esc, datos[i][100:830])\n",
    "        plt.xlabel('mm')\n",
    "        "
   ]
  },
  {
   "cell_type": "code",
   "execution_count": 12,
   "id": "7f30241a",
   "metadata": {},
   "outputs": [],
   "source": [
    "datos_V =  []\n",
    "for i in range(len(im_r)):\n",
    "    data_v = []\n",
    "    for j in range(np.shape(im_r[i])[1]):\n",
    "        im_r[i] = np.array(im_r[i])\n",
    "        data_v.append(sum(im_r[i][:,j]))\n",
    "    datos_V.append(data_v)\n",
    "    \n",
    "for i in range(len(datos_V)):\n",
    "    plt.figure()\n",
    "    plt.plot(datos_V[i])"
   ]
  },
  {
   "cell_type": "code",
   "execution_count": null,
   "id": "a6b8c112",
   "metadata": {},
   "outputs": [],
   "source": []
  }
 ],
 "metadata": {
  "kernelspec": {
   "display_name": "Python 3",
   "language": "python",
   "name": "python3"
  },
  "language_info": {
   "codemirror_mode": {
    "name": "ipython",
    "version": 3
   },
   "file_extension": ".py",
   "mimetype": "text/x-python",
   "name": "python",
   "nbconvert_exporter": "python",
   "pygments_lexer": "ipython3",
   "version": "3.8.5"
  }
 },
 "nbformat": 4,
 "nbformat_minor": 5
}
