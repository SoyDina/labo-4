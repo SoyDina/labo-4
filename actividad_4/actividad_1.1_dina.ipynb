{
 "cells": [
  {
   "cell_type": "markdown",
   "id": "26dcb20b",
   "metadata": {},
   "source": [
    "- 1.0 Per saltum. En todos los casos, la señal empieza en un valor y cambia a otro. La diferencia entre las mediciones es que fueron hechas con distinta frecuencia de modulación, el nivel de ruido o el tiempo total de la medición.\n",
    "- 1.1. Bajo ruido, baja frecuencia. Demodular la señal. ¿Qué valor inicial y final toma la señal? Discutir los efectos de elección de distintos tiempos de integración.- ¿Qué pasa en los primeros momentos temporales? Estudiar el espectro de Fourier de la señal. Describir cualitativamente qué se ve. La forma del ruido y su relación con la amplitud de la modulación."
   ]
  },
  {
   "cell_type": "code",
   "execution_count": 1,
   "id": "a5695c34",
   "metadata": {},
   "outputs": [],
   "source": [
    "import numpy as np\n",
    "import matplotlib.pyplot as plt\n",
    "import pint"
   ]
  },
  {
   "cell_type": "markdown",
   "id": "88a577f8",
   "metadata": {},
   "source": [
    "Importo datos del problema"
   ]
  },
  {
   "cell_type": "code",
   "execution_count": 4,
   "id": "f7a215f8",
   "metadata": {},
   "outputs": [],
   "source": [
    "un = pint.UnitRegistry()\n",
    "\n",
    "data = np.loadtxt(\"v1/ej11_medicion.txt\", skiprows=3) * un.volts\n",
    "fsamp = 100000 * un.hertz\n",
    "fmod = 200 * un.hertz\n"
   ]
  },
  {
   "cell_type": "markdown",
   "id": "04ee0b69",
   "metadata": {},
   "source": [
    "Grafico señal"
   ]
  },
  {
   "cell_type": "code",
   "execution_count": null,
   "id": "aab58579",
   "metadata": {},
   "outputs": [],
   "source": [
    "fig, ax = plt.subplots(1, figsize=(15,8))\n"
   ]
  }
 ],
 "metadata": {
  "kernelspec": {
   "display_name": "Python 3",
   "language": "python",
   "name": "python3"
  },
  "language_info": {
   "codemirror_mode": {
    "name": "ipython",
    "version": 3
   },
   "file_extension": ".py",
   "mimetype": "text/x-python",
   "name": "python",
   "nbconvert_exporter": "python",
   "pygments_lexer": "ipython3",
   "version": "3.8.5"
  }
 },
 "nbformat": 4,
 "nbformat_minor": 5
}
