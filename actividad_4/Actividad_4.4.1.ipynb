{
 "cells": [
  {
   "attachments": {
    "image.png": {
     "image/png": "[encoded data removed]"
    }
   },
   "cell_type": "markdown",
   "metadata": {},
   "source": [
    "# Actividad 4 4.1\n",
    "\n",
    "![image.png](attachment:image.png)"
   ]
  },
  {
   "cell_type": "markdown",
   "metadata": {},
   "source": [
    "### Importamos las librerias y los archivos 4.1 de v1"
   ]
  },
  {
   "cell_type": "code",
   "execution_count": 4,
   "metadata": {},
   "outputs": [],
   "source": [
    "import numpy as np\n",
    "import matplotlib.pyplot as plt\n",
    "from scipy import signal\n",
    "%matplotlib widget\n",
    "\n",
    "\n",
    "medicion_410 = np.loadtxt('data/v1/ej41_medicion_v1_Fmod=410Hz.txt', delimiter=' ', skiprows=3)\n",
    "medicion_450 = np.loadtxt('data/v1/ej41_medicion_v1_Fmod=450Hz.txt', delimiter=' ', skiprows=3)\n",
    "medicion_475 = np.loadtxt('data/v1/ej41_medicion_v1_Fmod=475Hz.txt', delimiter=' ', skiprows=3)\n",
    "medicion_1350 = np.loadtxt('data/v1/ej41_medicion_v1_Fmod=1350Hz.txt', delimiter=' ', skiprows=3)\n",
    "medicion_1375 = np.loadtxt('data/v1/ej41_medicion_v1_Fmod=1375Hz.txt', delimiter=' ', skiprows=3)\n",
    "\n",
    "medicion = [medicion_410, medicion_450, medicion_475, medicion_1350, medicion_1375]"
   ]
  },
  {
   "cell_type": "markdown",
   "metadata": {},
   "source": [
    "## Análisis de todas las mediciones"
   ]
  },
  {
   "cell_type": "code",
   "execution_count": 5,
   "metadata": {},
   "outputs": [],
   "source": [
    "f_samp = 100000\n",
    "muestras = len(medicion_410)\n",
    "T = 1/f_samp #periodo\n",
    "t = np.linspace(0, muestras-1, muestras)*T\n",
    "\n",
    "f_ref = np.array([410, 450, 475, 1350, 1375])\n",
    "omega_ref = f_ref*2*np.pi\n",
    "\n",
    "fc = 10  # para el filtro\n",
    "orden = 10  #para el filtro\n",
    "sos = signal.bessel(orden, 2*np.pi*fc, 'low', fs=f_samp,output='sos') #para el filtro\n",
    "\n",
    "referencia_x = []\n",
    "referencia_y = []\n",
    "\n",
    "PSDx = []\n",
    "PSDy = []\n",
    "\n",
    "PSDxFiltrada = []\n",
    "PSDyFiltrada = []\n",
    "\n",
    "for i in range(len(omega_ref)):\n",
    "    referencia_x.append(np.array(np.sin(omega_ref[i]*t)))\n",
    "    referencia_y.append(np.array(np.cos(omega_ref[i]*t)))\n",
    "    \n",
    "    PSDx.append(2*medicion[i]*referencia_x[i])\n",
    "    PSDy.append(2*medicion[i]*referencia_y[i])\n",
    "    \n",
    "    PSDxFiltrada.append(signal.sosfilt(sos, PSDx[i]))\n",
    "    PSDyFiltrada.append(signal.sosfilt(sos, PSDy[i]))"
   ]
  },
  {
   "cell_type": "markdown",
   "metadata": {},
   "source": [
    "## Figuras"
   ]
  },
  {
   "cell_type": "code",
   "execution_count": 6,
   "metadata": {},
   "outputs": [
    {
     "data": {
      "application/vnd.jupyter.widget-view+json": {
       "model_id": "a35fd7c2c5fc41a5bd29b85c8ec0d901",
       "version_major": 2,
       "version_minor": 0
      },
      "text/plain": [
       "Canvas(toolbar=Toolbar(toolitems=[('Home', 'Reset original view', 'home', 'home'), ('Back', 'Back to previous …"
      ]
     },
     "metadata": {},
     "output_type": "display_data"
    }
   ],
   "source": [
    "#%matplotlib nbagg\n",
    "fig, ax  = plt.subplots(4,5,figsize=(16,9),  num=1, sharex=True)\n",
    "for i in range(len(medicion)):\n",
    "    ax[0][i].plot(t, referencia_x[i], label = 'referencia')\n",
    "    ax[0][0].set_ylabel('Referencia [V]')\n",
    "\n",
    "    ax[1][i].plot(t,medicion[i], label = 'señal')\n",
    "    ax[1][0].set_ylabel('Señal [V]')\n",
    "\n",
    "    ax[2][i].plot(t, PSDx[i], label = 'señal')\n",
    "    ax[2][0].set_ylabel('PSD [V]')\n",
    "\n",
    "    ax[3][i].plot(t,np.arctan2(PSDyFiltrada[i], PSDxFiltrada[i]), label = r'$\\theta$')\n",
    "    ax[3][i].plot(t, np.sqrt(PSDxFiltrada[i]**2+PSDyFiltrada[i]**2), label = 'R')\n",
    "    ax[3][0].set_ylabel('Salida')\n",
    "    ax[3][i].set_xlabel('Tiempo [s]')\n",
    "#    plt.legend(loc='lower right')\n",
    "    plt.show()\n",
    "plt.legend(loc='lower right')\n",
    "for axs in ax.flat:\n",
    "    axs.label_outer()\n"
   ]
  },
  {
   "cell_type": "markdown",
   "metadata": {},
   "source": [
    "## FFT"
   ]
  },
  {
   "cell_type": "code",
   "execution_count": 4,
   "metadata": {},
   "outputs": [
    {
     "data": {
      "application/vnd.jupyter.widget-view+json": {
       "model_id": "bff3c65e75e84fd2b6f47a2460269520",
       "version_major": 2,
       "version_minor": 0
      },
      "text/plain": [
       "Canvas(toolbar=Toolbar(toolitems=[('Home', 'Reset original view', 'home', 'home'), ('Back', 'Back to previous …"
      ]
     },
     "metadata": {},
     "output_type": "display_data"
    }
   ],
   "source": [
    "L = muestras\n",
    "fig, ax = plt.subplots(4,5,figsize=  (16,9),num=2,sharex=True)\n",
    "for i in range(len(medicion)):\n",
    "    ax[3][4].set_xlabel('Frecuencia [Hz]')\n",
    "    ax[3][4].set_xlim([1,2.5*f_ref[i]])\n",
    "    ax[3][4].set_xscale('linear')\n",
    "\n",
    "\n",
    "    # Armamos el vector de frecuencias.\n",
    "    freqs=np.fft.fftfreq(L,1/f_samp)\n",
    "\n",
    "    # 1 Grafica la FFT de la referencia\n",
    "    fftReferencia= np.abs(np.fft.fft(referencia_x[i]));\n",
    "    ax[0][i].semilogy(freqs[0:L//2],fftReferencia[0:L//2]) \n",
    "    ax[0][0].set_ylabel('Referencia'),ax[0][i].grid(True)\n",
    "\n",
    "\n",
    "    # 2 Grafica la FFT de la señal\n",
    "    fftSenial= np.abs(np.fft.fft(medicion[i]));\n",
    "    ax[1][i].semilogy(freqs[0:L//2],fftSenial[0:L//2]) \n",
    "    ax[1][0].set_ylabel('Señal'),ax[1][i].grid(True)\n",
    "\n",
    "    # 3 Grafica la FFT de la señal multiplicada\n",
    "    fftPSDx= np.abs(np.fft.fft(PSDx[i]));\n",
    "    fftPSDy= np.abs(np.fft.fft(PSDy[i]));\n",
    "    ax[2][i].semilogy(freqs[0:L//2],fftPSDx[0:L//2]) \n",
    "    ax[2][0].set_ylabel('PSD'),ax[2][i].grid(True)\n",
    "\n",
    "\n",
    "    # 4 Grafica la FFT de la señal demodulada\n",
    "    fftPSDxFiltrada= np.abs(np.fft.fft(PSDxFiltrada[i]));\n",
    "    fftPSDyFiltrada= np.abs(np.fft.fft(PSDyFiltrada[i]));\n",
    "    ax[3][i].semilogy(freqs[0:L//2],fftPSDxFiltrada[0:L//2]) \n",
    "    ax[3][0].set_ylabel('Salida'),ax[3][i].grid(True)\n",
    "\n",
    "\n",
    "\n",
    "    plt.tight_layout()  "
   ]
  },
  {
   "cell_type": "markdown",
   "metadata": {},
   "source": [
    "Analisi de una FFT para ver las componentes del ruido."
   ]
  },
  {
   "cell_type": "code",
   "execution_count": 5,
   "metadata": {},
   "outputs": [
    {
     "data": {
      "application/vnd.jupyter.widget-view+json": {
       "model_id": "fac19ebea291488d8f9bea74d16dfadd",
       "version_major": 2,
       "version_minor": 0
      },
      "text/plain": [
       "Canvas(toolbar=Toolbar(toolitems=[('Home', 'Reset original view', 'home', 'home'), ('Back', 'Back to previous …"
      ]
     },
     "metadata": {},
     "output_type": "display_data"
    },
    {
     "data": {
      "text/plain": [
       "(1.0, 3437.5)"
      ]
     },
     "execution_count": 5,
     "metadata": {},
     "output_type": "execute_result"
    }
   ],
   "source": [
    "plt.figure()\n",
    "fftSenial= np.abs(np.fft.fft(medicion[4]));\n",
    "plt.semilogy(freqs[0:L//2],fftSenial[0:L//2]) \n",
    "plt.ylabel('Señal'),ax[1][i].grid(True)\n",
    "plt.xlim([1,2.5*f_ref[4]])\n"
   ]
  },
  {
   "cell_type": "markdown",
   "metadata": {},
   "source": [
    "Figura de comparación de los datos de la señan y PSD y su tranformada de Fourier para $\\omega = 1350 Hz$"
   ]
  },
  {
   "cell_type": "code",
   "execution_count": 6,
   "metadata": {},
   "outputs": [
    {
     "data": {
      "application/vnd.jupyter.widget-view+json": {
       "model_id": "dd65e6e6ac3a4f49a8f4974011430444",
       "version_major": 2,
       "version_minor": 0
      },
      "text/plain": [
       "Canvas(toolbar=Toolbar(toolitems=[('Home', 'Reset original view', 'home', 'home'), ('Back', 'Back to previous …"
      ]
     },
     "metadata": {},
     "output_type": "display_data"
    },
    {
     "data": {
      "text/plain": [
       "(1.0, 3375.0)"
      ]
     },
     "execution_count": 6,
     "metadata": {},
     "output_type": "execute_result"
    }
   ],
   "source": [
    "fig, ax = plt.subplots(3,2, figsize=(16,9))\n",
    "fig.suptitle('Frecuencia $\\omega$ = 1350 Hz', fontsize = 20)\n",
    "ax[0][0].plot(t, referencia_x[3], label = 'referencia')\n",
    "ax[0][0].set_ylabel('Referencia [V]', fontsize = 15)\n",
    "\n",
    "ax[0][0].set_xlim([0.5, 0.55])\n",
    "\n",
    "ax[1][0].plot(t,medicion[3], label = 'señal')\n",
    "ax[1][0].set_ylabel('Señal [V]', fontsize = 15)\n",
    "ax[1][0].set_xlim([0.5, 0.55])\n",
    "\n",
    "ax[2][0].plot(t, PSDx[3], label = 'señal')\n",
    "ax[2][0].set_ylabel('PSD [V]', fontsize = 15)\n",
    "ax[2][0].set_xlabel('Tiempo [s]', fontsize = 15)\n",
    "ax[2][0].set_xlim([0.5, 0.55])\n",
    "freqs=np.fft.fftfreq(L,1/f_samp)\n",
    "\n",
    "# 1 Grafica la FFT de la referencia\n",
    "fftReferencia= np.abs(np.fft.fft(referencia_x[3]));\n",
    "ax[0][1].semilogy(freqs[0:L//2],fftReferencia[0:L//2]) \n",
    "ax[0][1].set_xlim([1,2.5*f_ref[3]])\n",
    "\n",
    "# 2 Grafica la FFT de la señal\n",
    "fftSenial= np.abs(np.fft.fft(medicion[3]));\n",
    "ax[1][1].semilogy(freqs[0:L//2],fftSenial[0:L//2]) \n",
    "ax[1][1].set_xlim([1,2.5*f_ref[3]])\n",
    "\n",
    "# 3 Grafica la FFT de la señal multiplicada\n",
    "fftPSDx= np.abs(np.fft.fft(PSDx[3]));\n",
    "fftPSDy= np.abs(np.fft.fft(PSDy[3]));\n",
    "ax[2][1].semilogy(freqs[0:L//2],fftPSDx[0:L//2]) \n",
    "ax[2][1].set_xlabel('Frecuencia [Hz]', fontsize = 15)\n",
    "ax[2][1].set_xlim([1,2.5*f_ref[3]])\n"
   ]
  },
  {
   "cell_type": "markdown",
   "metadata": {},
   "source": [
    "Figura de analisis de Todas las frecuencias para compararlas, estan divididas en dos figuras porque de esta forma se importaron en la presentación."
   ]
  },
  {
   "cell_type": "code",
   "execution_count": null,
   "metadata": {},
   "outputs": [],
   "source": [
    "# Figura con 4 de las 5 frecuencias \n",
    "fig, ax = plt.subplots(2,2,figsize = (16,9),sharex=True,sharey = True)\n",
    "for i in range(len(medicion)-1):\n",
    "    if i<2:\n",
    "        ax[i][0].plot(t,np.sqrt(PSDxFiltrada[i]**2+PSDyFiltrada[i]**2), label = 'R[V]',color = 'tab:orange')\n",
    "        ax[i][0].grid(True)\n",
    "        print(i)\n",
    "    else:\n",
    "        ax[i-2][1].plot(t,np.sqrt(PSDxFiltrada[i]**2+PSDyFiltrada[i]**2), label = 'R[V]' ,color = 'tab:orange')\n",
    "        ax[i-2][1].grid(True)\n",
    "        print('hola', i)\n",
    "    \n",
    "ax[1][0].set_xlabel('Tiempo [s]', fontsize = 15)\n",
    "ax[1][1].set_xlabel('Tiempo [s]', fontsize = 15)\n",
    "\n",
    "ax[0][0].set_ylabel('Salida [V]', fontsize = 15)\n",
    "ax[1][0].set_ylabel('Salida [V]', fontsize = 15)\n",
    "\n",
    "ax[0][0].set_title('$\\omega$ = 410Hz', fontsize = 18)\n",
    "ax[1][0].set_title('$\\omega$ = 450Hz', fontsize = 18)\n",
    "ax[0][1].set_title('$\\omega$ = 475Hz', fontsize = 18)\n",
    "ax[1][1].set_title('$\\omega$ = 1350Hz', fontsize = 18)\n",
    "\n",
    "plt.rc('xtick', labelsize=10) \n",
    "plt.rc('ytick', labelsize=10)\n",
    "\n",
    "# Figura restante\n",
    "\n",
    "plt.figure(figsize=(12,7))\n",
    "plt.plot(t,np.sqrt(PSDxFiltrada[4]**2+PSDyFiltrada[4]**2), label = 'R[V]',color = 'tab:orange')\n",
    "plt.title('$\\omega$ = 1375Hz', fontsize = 18)\n",
    "plt.xlabel('Tiempo [s]',  fontsize = 15)\n",
    "plt.ylabel('Salida [V]',  fontsize = 15)\n",
    "plt.yticks([0,1,2,3,4,5])\n",
    "plt.grid(True)\n",
    "plt.rc('xtick', labelsize=13) \n",
    "plt.rc('ytick', labelsize=13) "
   ]
  }
 ],
 "metadata": {
  "kernelspec": {
   "display_name": "Python 3",
   "language": "python",
   "name": "python3"
  },
  "language_info": {
   "codemirror_mode": {
    "name": "ipython",
    "version": 3
   },
   "file_extension": ".py",
   "mimetype": "text/x-python",
   "name": "python",
   "nbconvert_exporter": "python",
   "pygments_lexer": "ipython3",
   "version": "3.8.5"
  }
 },
 "nbformat": 4,
 "nbformat_minor": 4
}
