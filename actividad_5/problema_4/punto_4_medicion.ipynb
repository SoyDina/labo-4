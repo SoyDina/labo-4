{
 "cells": [
  {
   "cell_type": "markdown",
   "metadata": {},
   "source": [
    "# 4.Analicen la linealidad del circuito, realizando adquisiciones a una frecuencia determinada y variando la amplitud de modulación.\n",
    "- ¿Como elegirían la frecuencia de modulación?\n",
    "- Analice la relación Señal/Ruido\n",
    "- ¿Hay algún desfasaje entre la señal de modulación y lo que miden? ¿Como evitarían que eso afecte al proceso de medición?"
   ]
  },
  {
   "cell_type": "markdown",
   "metadata": {},
   "source": [
    "Arrancamos chequeando puertos y definiendo el lock-in"
   ]
  },
  {
   "cell_type": "code",
   "execution_count": null,
   "metadata": {},
   "outputs": [],
   "source": [
    "import visa\n",
    "\n",
    "rm = visa.ResourceManager()\n",
    "\n",
    "print(rm.list_resources()) #Preguntamos los puertos\n",
    "\n",
    "#Vemos que devuelve el puerto \"GPIB0::11::INSTR\" que es el que queremos, pero aún así lo chequeamos\n",
    "\n",
    "inst = rm.open_resource(\"GPIB0::11::INSTR\") #Inicializamos comunicación con ese puerto\n",
    "print(inst.query(\"*IDN?\")) #Le preguntamos que instrumento esta conectado al puerto\n",
    "\n",
    "#Debería devolver que es el lock-in SR830"
   ]
  },
  {
   "cell_type": "markdown",
   "metadata": {},
   "source": [
    "Definimos lock-in"
   ]
  },
  {
   "cell_type": "code",
   "execution_count": null,
   "metadata": {},
   "outputs": [],
   "source": [
    "from lockin import SR830\n",
    "\n",
    "config = {\n",
    "          'lockin_addr': 'GPIB0::11::INSTR', \n",
    "          'medicion_modo' : 0, #Canal A single-ended\n",
    "          'display_modo' : 'RT', #Nos muestra R y Tita\n",
    "          'sens' : 12, #Sensibilidad 20mV\n",
    "          'slope' : 2, #Orden del filtro 6dB/oct\n",
    "          't_int' : 8, #Frecuencia de corte 10Hz \n",
    "          'ref_intern' : True, #Él mismo genera la referencia\n",
    "          'ref_freq' : 1e4, #Con frecuencia 80Hz\n",
    "          'ref_v' : 0.1, #Con amplitud 0.1V\n",
    "          }\n",
    "\n",
    "lock = SR830(config)"
   ]
  },
  {
   "cell_type": "markdown",
   "metadata": {},
   "source": [
    "Ahora hacemos un barrido para distintos voltajes. Usamos de frecuencia de referencia 1000Hz"
   ]
  },
  {
   "cell_type": "code",
   "execution_count": null,
   "metadata": {},
   "outputs": [],
   "source": [
    "import numpy as np\n",
    "from time import sleep\n",
    "\n",
    "vmax = 4.95\n",
    "amplitudes = np.arange(0.05, vmax, 0.05)\n",
    "\n",
    "sens = 17\n",
    "f_corte = 8\n",
    "f_mod = 1e3\n",
    "orden = 3\n",
    "lock.setSensibility(sens) \n",
    "lock.setIntegrationTime(f_corte)\n",
    "lock.setFreqReferencia(f_mod)\n",
    "lock.setFilterSlope(orden)\n",
    "sleep(5)\n",
    "\n",
    "Xs = []\n",
    "Ys = []\n",
    "for amp in amplitudes:\n",
    "    lock.setVoltReferencia(amp)\n",
    "    sleep(0.5)\n",
    "    X, Y = lock.getMedicion(\"XY\")\n",
    "    Xs.append(X)\n",
    "    Ys.append(Y)\n",
    "    \n",
    "np.savetxt(f\"actividad_4/Xs_p4_fc{f_corte}_s{sens}_o{orden}_fm{f_mod}_vmax{vmax}.txt\",\n",
    "           Xs, delimiter=\",\")\n",
    "np.savetxt(f\"actividad_4/Ys_p4_fc{f_corte}_s{sens}_o{orden}_fm{f_mod}_vmax{vmax}.txt\",\n",
    "           Ys, delimiter=\",\") "
   ]
  },
  {
   "cell_type": "code",
   "execution_count": null,
   "metadata": {},
   "outputs": [],
   "source": []
  }
 ],
 "metadata": {
  "kernelspec": {
   "display_name": "Python 3",
   "language": "python",
   "name": "python3"
  },
  "language_info": {
   "codemirror_mode": {
    "name": "ipython",
    "version": 3
   },
   "file_extension": ".py",
   "mimetype": "text/x-python",
   "name": "python",
   "nbconvert_exporter": "python",
   "pygments_lexer": "ipython3",
   "version": "3.8.3"
  }
 },
 "nbformat": 4,
 "nbformat_minor": 5
}
