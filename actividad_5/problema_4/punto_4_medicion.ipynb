{
 "cells": [
  {
   "cell_type": "markdown",
   "id": "e39a9812-fe44-4c5a-bf88-5f6b061c2461",
   "metadata": {},
   "source": [
    "# 4.Analicen la linealidad del circuito, realizando adquisiciones a una frecuencia determinada y variando la amplitud de modulación.\n",
    "- ¿Como elegirían la frecuencia de modulación?\n",
    "- Analice la relación Señal/Ruido\n",
    "- ¿Hay algún desfasaje entre la señal de modulación y lo que miden? ¿Como evitarían que eso afecte al proceso de medición?"
   ]
  },
  {
   "cell_type": "markdown",
   "id": "91ba6404-48b8-41dc-a022-8ae71bab64a3",
   "metadata": {},
   "source": [
    "Arrancamos chequeando puertos y definiendo el lock-in"
   ]
  },
  {
   "cell_type": "code",
   "execution_count": null,
   "id": "41a0197d-00b5-40f0-afb5-deffbd4f27e7",
   "metadata": {},
   "outputs": [],
   "source": [
    "import visa\n",
    "\n",
    "rm = visa.ResourceManager()\n",
    "\n",
    "print(rm.list_resources()) #Preguntamos los puertos\n",
    "\n",
    "#Vemos que devuelve el puerto \"GPIB0::11::INSTR\" que es el que queremos, pero aún así lo chequeamos\n",
    "\n",
    "inst = rm.open_resource(\"GPIB0::11::INSTR\") #Inicializamos comunicación con ese puerto\n",
    "print(inst.query(\"*IDN?\")) #Le preguntamos que instrumento esta conectado al puerto\n",
    "\n",
    "#Debería devolver que es el lock-in SR830"
   ]
  },
  {
   "cell_type": "markdown",
   "id": "5dca289e-c230-4154-9f7c-7e3adeb19740",
   "metadata": {},
   "source": [
    "Definimos lock-in"
   ]
  },
  {
   "cell_type": "code",
   "execution_count": null,
   "id": "ce1365af-5559-4349-8354-9797b63c7ae3",
   "metadata": {},
   "outputs": [],
   "source": [
    "from lockin import SR830\n",
    "\n",
    "config = {\n",
    "          'lockin_addr': 'GPIB0::11::INSTR', \n",
    "          'medicion_modo' : 0, #Canal A single-ended\n",
    "          'display_modo' : 'RT', #Nos muestra R y Tita\n",
    "          'sens' : 12, #Sensibilidad 20mV\n",
    "          'slope' : 2, #Orden del filtro 6dB/oct\n",
    "          't_int' : 8, #Frecuencia de corte 10Hz \n",
    "          'ref_intern' : True, #Él mismo genera la referencia\n",
    "          'ref_freq' : 1e4, #Con frecuencia 80Hz\n",
    "          'ref_v' : 0.1, #Con amplitud 0.1V\n",
    "          }\n",
    "\n",
    "lock = SR830(config)"
   ]
  },
  {
   "cell_type": "markdown",
   "id": "b44ceb18-415e-498d-bd38-c570ee0c3aae",
   "metadata": {},
   "source": [
    "Ahora hacemos un barrido para distintos voltajes. Usamos de frecuencia de referencia 1000Hz"
   ]
  },
  {
   "cell_type": "code",
   "execution_count": null,
   "id": "ab2339b0-0826-46b4-85e0-8e2f00029024",
   "metadata": {},
   "outputs": [],
   "source": [
    "import numpy as np\n",
    "from time import sleep\n",
    "\n",
    "vmax = 4.95\n",
    "amplitudes = np.arange(0.05, vmax, 0.05)\n",
    "\n",
    "sens = 17\n",
    "f_corte = 8\n",
    "f_mod = 1e3\n",
    "orden = 3\n",
    "lock.setSensibility(sens) \n",
    "lock.setIntegrationTime(f_corte)\n",
    "lock.setFreqReferencia(f_mod)\n",
    "lock.setFilterSlope(orden)\n",
    "sleep(5)\n",
    "\n",
    "Xs = []\n",
    "Ys = []\n",
    "for amp in amplitudes:\n",
    "    lock.setVoltReferencia(amp)\n",
    "    sleep(0.5)\n",
    "    X, Y = lock.getMedicion(\"XY\")\n",
    "    Xs.append(X)\n",
    "    Ys.append(Y)\n",
    "    \n",
    "np.savetxt(f\"actividad_4/Xs_p4_fc{f_corte}_s{sens}_o{orden}_fm{f_mod}_vmax{vmax}.txt\",\n",
    "           Xs, delimiter=\",\")\n",
    "np.savetxt(f\"actividad_4/Ys_p4_fc{f_corte}_s{sens}_o{orden}_fm{f_mod}_vmax{vmax}.txt\",\n",
    "           Ys, delimiter=\",\") "
   ]
  },
  {
   "cell_type": "code",
   "execution_count": null,
   "id": "7b9aeb96-8ec9-4385-a7e8-5cb17c244cd2",
   "metadata": {},
   "outputs": [],
   "source": []
  }
 ],
 "metadata": {
  "kernelspec": {
   "display_name": "Python 3",
   "language": "python",
   "name": "python3"
  },
  "language_info": {
   "codemirror_mode": {
    "name": "ipython",
    "version": 3
   },
   "file_extension": ".py",
   "mimetype": "text/x-python",
   "name": "python",
   "nbconvert_exporter": "python",
   "pygments_lexer": "ipython3",
   "version": "3.8.5"
  }
 },
 "nbformat": 4,
 "nbformat_minor": 5
}
