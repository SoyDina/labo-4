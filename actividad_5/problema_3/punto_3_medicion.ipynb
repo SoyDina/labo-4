{
 "cells": [
  {
   "cell_type": "markdown",
   "metadata": {},
   "source": [
    "# 3.Determinen la densidad de ruido espectral del sistema de medición.\n",
    "- Para hacerlo pueden repetir varias veces las mediciones en cada frecuencia y calcular su desviación estándar.\n",
    "- Es importante, en este caso, medir con una constante de tiempo igual para todas las frecuencias.\n",
    "- Intenten identificar regiones y bandas en el ruido. Busquen zonas con comportamientos tipo series de potencia, o constantes. Si aparece ruido en bandas, identifiquen si son estrechas o anchas. Discutan cualitativamente la posible fuente de cada comportamiento.\n",
    "- ¿Cambia la medición del ruido si tienen la modulación encendida o apagada?"
   ]
  },
  {
   "cell_type": "markdown",
   "metadata": {},
   "source": [
    "Arrancamos haciendo lo mismo que siempre: chequeamos los puertos y definimos el lock-in"
   ]
  },
  {
   "cell_type": "code",
   "execution_count": null,
   "metadata": {},
   "outputs": [],
   "source": [
    "import visa\n",
    "\n",
    "rm = visa.ResourceManager()\n",
    "\n",
    "print(rm.list_resources()) #Preguntamos los puertos\n",
    "\n",
    "#Vemos que devuelve el puerto \"GPIB0::11::INSTR\" que es el que queremos, pero aún así lo chequeamos\n",
    "\n",
    "inst = rm.open_resource(\"GPIB0::11::INSTR\") #Inicializamos comunicación con ese puerto\n",
    "print(inst.query(\"*IDN?\")) #Le preguntamos que instrumento esta conectado al puerto\n",
    "\n",
    "#Debería devolver que es el lock-in SR830"
   ]
  },
  {
   "cell_type": "markdown",
   "metadata": {},
   "source": [
    "Definimos lock-in"
   ]
  },
  {
   "cell_type": "code",
   "execution_count": null,
   "metadata": {},
   "outputs": [],
   "source": [
    "from lockin import SR830\n",
    "\n",
    "config = {\n",
    "          'lockin_addr': 'GPIB0::11::INSTR', \n",
    "          'medicion_modo' : 0, #Canal A single-ended\n",
    "          'display_modo' : 'RT', #Nos muestra R y Tita\n",
    "          'sens' : 12, #Sensibilidad 12 = 20muV\n",
    "          'slope' : 2, #Orden del filtro 2 = 18dB/oct\n",
    "          't_int' : 8, #Frecuencia de corte 10Hz \n",
    "          'ref_intern' : True, #Él mismo genera la referencia\n",
    "          'ref_freq' : 80, #Con frecuencia 80Hz\n",
    "          'ref_v' : 0.1, #Con amplitud 0.1V\n",
    "          }\n",
    "\n",
    "lock = SR830(config)\n"
   ]
  },
  {
   "cell_type": "markdown",
   "metadata": {},
   "source": [
    "Ahora, como nos dice la actividad que hagamos, medimos R y T para distintas frecuencias de referencia (modulación). Hacemos 50 mediciones por frecuencias y medimos para 50 frecuencias distintas equiespaciadas en escala logarítmica de 40Hz a 50kHz."
   ]
  },
  {
   "cell_type": "code",
   "execution_count": null,
   "metadata": {},
   "outputs": [],
   "source": [
    "import numpy as np\n",
    "from time import sleep\n",
    "\n",
    "Rs = []\n",
    "Ts = []\n",
    "\n",
    "sens = 12 #sensibilidad 12 = 20muV\n",
    "orden = 2 #Orden 2 del filtro = 18dB/oct\n",
    "f_corte = 8 #Frecuencia de corte 8 = 10Hz\n",
    "frecs = np.logspace(np.log10(40), np.log10(50000), 50, dtype=int)\n",
    "lock.setSensibility(sens)\n",
    "lock.setFilterSlope(orden)\n",
    "lock.setIntegrationTime(f_corte)\n",
    "lock.setFreqReferencia(frecs[0])\n",
    "\n",
    "for orden_iter in [0, 1, 2, 3]:\n",
    "    \n",
    "    #seteamos orden del filtro\n",
    "    lock.setFilterSlope(orden_iter)\n",
    "    sleep(5)\n",
    "    \n",
    "    #Medimos para todas las frecuencias 50 veces\n",
    "    for fr in frecs:\n",
    "        R_fila = []\n",
    "        T_fila = []\n",
    "        for med in range(50):\n",
    "            R, T = lock.getMedicion(\"RT\")\n",
    "            R_fila.append(R)\n",
    "            T_fila.append(T)\n",
    "        Rs.append(R_fila)\n",
    "        Ts.append(T_fila)\n",
    "        lock.setFreqReferencia(fr)\n",
    "        sleep(0.5)\n",
    "\n",
    "    #Guardamos los archivos \n",
    "    np.savetxt(\"R_fc{f_corte}_s{sens}_o{orden}.txt\",\n",
    "               Rs, delimiter=\",\")\n",
    "    np.savetxt(\"T_fc{f_corte}_s{sens}_o{orden}.txt\",\n",
    "               Ts, delimiter=\",\")"
   ]
  }
 ],
 "metadata": {
  "kernelspec": {
   "display_name": "Python 3",
   "language": "python",
   "name": "python3"
  },
  "language_info": {
   "codemirror_mode": {
    "name": "ipython",
    "version": 3
   },
   "file_extension": ".py",
   "mimetype": "text/x-python",
   "name": "python",
   "nbconvert_exporter": "python",
   "pygments_lexer": "ipython3",
   "version": "3.8.3"
  }
 },
 "nbformat": 4,
 "nbformat_minor": 5
}
