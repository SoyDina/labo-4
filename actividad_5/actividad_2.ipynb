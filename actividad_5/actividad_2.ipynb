{
 "cells": [
  {
   "cell_type": "markdown",
   "metadata": {},
   "source": [
    "# 2.Repitan el paso 1 para distintos valores de frecuencias de modulación. Exploren un rango de valores entre 40 Hz y 50 kHz para medir la función de transferencia $T(\\omega)=\\frac{V_o(\\omega)}{V_i(\\omega)}$.\n",
    "- ¿La función obtenida es la esperada?\n",
    "- Discutan cualitativamente los resultados.\n",
    "- Optimización barrido: para hacer un diagrama de bode, un barrido óptimo no da pasos equiespaciados ni toma el mismo tiempo de integración para todas la frecuencias. ¿Cómo optimizarían el barrido teniendo esto en cuenta? "
   ]
  },
  {
   "cell_type": "markdown",
   "metadata": {},
   "source": [
    "Arrancamos haciendo lo mismo que antes: Nos aseguramos de tener el puerto correcto; para eso importamos visa y le preguntamos cuales son los puertos disponibles, después vemos si el GPIB es el instrumento que queremos: "
   ]
  },
  {
   "cell_type": "code",
   "execution_count": null,
   "metadata": {},
   "outputs": [],
   "source": [
    "import visa\n",
    "\n",
    "rm = visa.ResourceManager()\n",
    "\n",
    "print(rm.list_resources()) #Preguntamos los puertos\n",
    "\n",
    "#Vemos que devuelve el puerto \"GPIB0::11::INSTR\" que es el que queremos, pero aún así lo chequeamos\n",
    "\n",
    "inst = rm.open_resource(\"GPIB0::11::INSTR\") #Inicializamos comunicación con ese puerto\n",
    "print(inst.query(\"*IDN?\")) #Le preguntamos que instrumento esta conectado al puerto\n",
    "\n",
    "#Debería devolver que es el lock-in SR830"
   ]
  },
  {
   "cell_type": "markdown",
   "metadata": {},
   "source": [
    "Creamos el objeto del lock-in"
   ]
  },
  {
   "cell_type": "code",
   "execution_count": null,
   "metadata": {},
   "outputs": [],
   "source": [
    "from lockin import SR830\n",
    "\n",
    "config = {\n",
    "          'lockin_addr': 'GPIB0::11::INSTR', \n",
    "          'medicion_modo' : 0, #Canal A single-ended\n",
    "          'display_modo' : 'RT', #Nos muestra R y Tita\n",
    "          'sens' : 12, #Sensibilidad 20mV\n",
    "          'slope' : 0, #Orden del filtro 6dB/oct\n",
    "          't_int' : 8, #Frecuencia de corte 10Hz \n",
    "          'ref_intern' : True, #Él mismo genera la referencia\n",
    "          'ref_freq' : 80, #Con frecuencia 80Hz\n",
    "          'ref_v' : 0.1, #Con amplitud 0.1V\n",
    "          }\n",
    "\n",
    "lock = SR830(config)\n"
   ]
  },
  {
   "cell_type": "markdown",
   "metadata": {},
   "source": [
    "Ahora, la actividad nos pide hacer un barrido de frecuencias y ver la función transferencia en función de éstas. Para eso creamos un vector de frecuencias entre 40 y 50k equiespaciadas logarítmicamente y medimos para cada una de ellas"
   ]
  },
  {
   "cell_type": "code",
   "execution_count": null,
   "metadata": {},
   "outputs": [],
   "source": [
    "import numpy as np\n",
    "from time import sleep\n",
    "import matplotlib.pyplot as plt\n",
    "\n",
    "frecs = np.logspace(np.log10(40), np.log10(50000), 100, dtype=int) #Vector \n",
    "#equiespaciado logarítimcamente entre 40 y 50k\n",
    "Rs = []\n",
    "titas = []\n",
    "\n",
    "#Seteamos los parámetros relevantes: sensibilidad, frecuencia de corte\n",
    "#y orden del filtro\n",
    "sens = 12\n",
    "frec = 8\n",
    "orden = 3\n",
    "lock.setSensibility(sens) \n",
    "lock.setIntegrationTime(frec)\n",
    "lockin.setFilterSlope(orden)\n",
    "sleep(3)\n",
    "\n",
    "#Medimos para cada frecuencia\n",
    "for frec in frecs:\n",
    "    lock.setFreqReferencia(frec)\n",
    "    sleep(0.5)\n",
    "    R, tita = lock.getMedicion(\"RT\")\n",
    "    Rs.append(R)\n",
    "    titas.append(tita)\n",
    "\n",
    "#Guardamos los datos\n",
    "Rs = np.array(Rs)\n",
    "titas = np.array(titas)\n",
    "np.savetxt(f\"barrido_R_s{sens}_f{frec}_o{orden}.txt\", Rs, delimiter=\",\")\n",
    "np.savetxt(f\"barrido_titas_s{sens}_f{frec}_o{orden}.txt\", titas, delimiter=\",\")\n"
   ]
  },
  {
   "cell_type": "markdown",
   "metadata": {},
   "source": [
    "Visualizamos los datos"
   ]
  },
  {
   "cell_type": "code",
   "execution_count": null,
   "metadata": {},
   "outputs": [],
   "source": [
    "plt.plot(frecs, Rs, '.r')\n",
    "plt.xscale(\"log\")\n",
    "plt.show()"
   ]
  }
 ],
 "metadata": {
  "kernelspec": {
   "display_name": "Python 3",
   "language": "python",
   "name": "python3"
  },
  "language_info": {
   "codemirror_mode": {
    "name": "ipython",
    "version": 3
   },
   "file_extension": ".py",
   "mimetype": "text/x-python",
   "name": "python",
   "nbconvert_exporter": "python",
   "pygments_lexer": "ipython3",
   "version": "3.8.3"
  }
 },
 "nbformat": 4,
 "nbformat_minor": 5
}
