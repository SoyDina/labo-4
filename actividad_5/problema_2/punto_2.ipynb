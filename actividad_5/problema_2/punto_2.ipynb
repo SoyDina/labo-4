{
 "cells": [
  {
   "cell_type": "markdown",
   "id": "a4ddc9cf",
   "metadata": {},
   "source": [
    "# 2.Repitan el paso 1 para distintos valores de frecuencias de modulación. Exploren un rango de valores entre 40 Hz y 50 kHz para medir la función de transferencia $T(\\omega)=\\frac{V_o(\\omega)}{V_i(\\omega)}$.\n",
    "- ¿La función obtenida es la esperada?\n",
    "- Discutan cualitativamente los resultados.\n",
    "- Optimización barrido: para hacer un diagrama de bode, un barrido óptimo no da pasos equiespaciados ni toma el mismo tiempo de integración para todas la frecuencias. ¿Cómo optimizarían el barrido teniendo esto en cuenta? "
   ]
  },
  {
   "cell_type": "markdown",
   "id": "070df5e3",
   "metadata": {},
   "source": [
    "Arrancamos haciendo lo mismo que antes: Nos aseguramos de tener el puerto correcto; para eso importamos visa y le preguntamos cuales son los puertos disponibles, después vemos si el GPIB es el instrumento que queremos: "
   ]
  },
  {
   "cell_type": "code",
   "execution_count": null,
   "id": "321723ca",
   "metadata": {},
   "outputs": [],
   "source": [
    "import visa\n",
    "\n",
    "rm = visa.ResourceManager()\n",
    "\n",
    "print(rm.list_resources()) #Preguntamos los puertos\n",
    "\n",
    "#Vemos que devuelve el puerto \"GPIB0::11::INSTR\" que es el que queremos, pero aún así lo chequeamos\n",
    "\n",
    "inst = rm.open_resource(\"GPIB0::11::INSTR\") #Inicializamos comunicación con ese puerto\n",
    "print(inst.query(\"*IDN?\")) #Le preguntamos que instrumento esta conectado al puerto\n",
    "\n",
    "#Debería devolver que es el lock-in SR830"
   ]
  },
  {
   "cell_type": "markdown",
   "id": "6031898c",
   "metadata": {},
   "source": [
    "Creamos el objeto del lock-in"
   ]
  },
  {
   "cell_type": "code",
   "execution_count": null,
   "id": "1473db22",
   "metadata": {},
   "outputs": [],
   "source": [
    "from lockin import SR830\n",
    "\n",
    "config = {\n",
    "          'lockin_addr': 'GPIB0::11::INSTR', \n",
    "          'medicion_modo' : 0, #Canal A single-ended\n",
    "          'display_modo' : 'RT', #Nos muestra R y Tita\n",
    "          'sens' : 12, #Sensibilidad 20mV\n",
    "          'slope' : 0, #Orden del filtro 6dB/oct\n",
    "          't_int' : 8, #Frecuencia de corte 10Hz \n",
    "          'ref_intern' : True, #Él mismo genera la referencia\n",
    "          'ref_freq' : 80, #Con frecuencia 80Hz\n",
    "          'ref_v' : 0.1, #Con amplitud 0.1V\n",
    "          }\n",
    "\n",
    "lock = SR830(config)\n"
   ]
  },
  {
   "cell_type": "markdown",
   "id": "7806a9b6",
   "metadata": {},
   "source": [
    "Ahora, la actividad nos pide hacer un barrido de frecuencias y ver la función transferencia en función de éstas. Para eso creamos un vector de frecuencias entre 40 y 50k equiespaciadas logarítmicamente y medimos para cada una de ellas"
   ]
  },
  {
   "cell_type": "code",
   "execution_count": null,
   "id": "4e5a0033",
   "metadata": {},
   "outputs": [],
   "source": [
    "import numpy as np\n",
    "from time import sleep\n",
    "import matplotlib.pyplot as plt\n",
    "\n",
    "frecs = np.logspace(np.log10(40), np.log10(50000), 100, dtype=int) #Vector \n",
    "#equiespaciado logarítimcamente entre 40 y 50k\n",
    "Rs = []\n",
    "Ts = []\n",
    "\n",
    "#Seteamos los parámetros relevantes: sensibilidad, frecuencia de corte\n",
    "#y orden del filtro y la primera frecuencia\n",
    "sens = 12\n",
    "f_corte = 8\n",
    "orden = 3\n",
    "lock.setSensibility(sens) \n",
    "lock.setIntegrationTime(f_corte)\n",
    "lock.setFilterSlope(orden)\n",
    "lock.setFreqReferencia(frecs[0])\n",
    "sleep(5)\n",
    "\n",
    "#Medimos para cada frecuencia\n",
    "for fr in frecs:\n",
    "    lock.setFreqReferencia(fr)\n",
    "    sleep(0.5)\n",
    "    R, T = lock.getMedicion(\"RT\")\n",
    "    Rs.append(R)\n",
    "    Ts.append(T)\n",
    "\n",
    "#Guardamos los datos\n",
    "Rs = np.array(Rs)\n",
    "Ts = np.array(Ts)\n",
    "np.savetxt(f\"R_p2_fc{f_corte}_s{sens}_o{orden}.txt\", Rs, delimiter=\",\")\n",
    "np.savetxt(f\"T_p2_fc{f_corte}_s{sens}_o{orden}.txt\", Ts, delimiter=\",\")\n"
   ]
  },
  {
   "cell_type": "markdown",
   "id": "7280e5a4",
   "metadata": {},
   "source": [
    "Visualizamos los datos"
   ]
  },
  {
   "cell_type": "code",
   "execution_count": null,
   "id": "be4edb0d",
   "metadata": {},
   "outputs": [],
   "source": [
    "plt.plot(frecs, Rs, '.r')\n",
    "plt.xscale(\"log\")\n",
    "plt.show()"
   ]
  },
  {
   "cell_type": "markdown",
   "id": "d1bcb5a7-c84f-43a5-8f73-26eafd235ea3",
   "metadata": {},
   "source": [
    "Ahora medimos con mayor precisión entre las frecuencias 82Hz y 130Hz"
   ]
  },
  {
   "cell_type": "code",
   "execution_count": null,
   "id": "b6a44202-7611-4622-96d6-8e567941c6ca",
   "metadata": {},
   "outputs": [],
   "source": [
    "import numpy as np\n",
    "from time import sleep\n",
    "import matplotlib.pyplot as plt\n",
    "\n",
    "frecs = np.arange(82, 131, 1, dtype=int) #Vector \n",
    "#equiespaciado linealmente entre 82 y 130\n",
    "Rs = []\n",
    "Ts = []\n",
    "\n",
    "#Seteamos los parámetros relevantes: sensibilidad, frecuencia de corte\n",
    "#y orden del filtro y la primera frecuencia\n",
    "sens = 12\n",
    "f_corte = 8\n",
    "orden = 3\n",
    "lock.setSensibility(sens) \n",
    "lock.setIntegrationTime(f_corte)\n",
    "lock.setFilterSlope(orden)\n",
    "lock.setFreqReferencia(frecs[0])\n",
    "sleep(5)\n",
    "\n",
    "#Medimos para cada frecuencia\n",
    "for fr in frecs:\n",
    "    lock.setFreqReferencia(fr)\n",
    "    sleep(0.5)\n",
    "    R, T = lock.getMedicion(\"RT\")\n",
    "    Rs.append(R)\n",
    "    Ts.append(tita)\n",
    "\n",
    "#Guardamos los datos\n",
    "Rs = np.array(Rs)\n",
    "Ts = np.array(Ts)\n",
    "np.savetxt(f\"R_p2__fino_fc{f_corte}_s{sens}_o{orden}.txt\", Rs, delimiter=\",\")\n",
    "np.savetxt(f\"T_p2_fino_fc{f_corte}_s{sens}_o{orden}.txt\", Ts, delimiter=\",\")\n"
   ]
  }
 ],
 "metadata": {
  "kernelspec": {
   "display_name": "Python 3",
   "language": "python",
   "name": "python3"
  },
  "language_info": {
   "codemirror_mode": {
    "name": "ipython",
    "version": 3
   },
   "file_extension": ".py",
   "mimetype": "text/x-python",
   "name": "python",
   "nbconvert_exporter": "python",
   "pygments_lexer": "ipython3",
   "version": "3.8.5"
  }
 },
 "nbformat": 4,
 "nbformat_minor": 5
}
