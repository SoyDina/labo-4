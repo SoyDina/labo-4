{
 "cells": [
  {
   "cell_type": "code",
   "execution_count": 2,
   "id": "a5206ff5",
   "metadata": {},
   "outputs": [],
   "source": [
    "import numpy as np\n",
    "import matplotlib.pyplot as plt\n",
    "import pint"
   ]
  },
  {
   "cell_type": "code",
   "execution_count": 6,
   "id": "8e2282f1",
   "metadata": {},
   "outputs": [
    {
     "data": {
      "text/html": [
       "10000 ohm"
      ],
      "text/latex": [
       "$10000\\ \\mathrm{ohm}$"
      ],
      "text/plain": [
       "10000 <Unit('ohm')>"
      ]
     },
     "execution_count": 6,
     "metadata": {},
     "output_type": "execute_result"
    }
   ],
   "source": [
    "un = pint.UnitRegistry()\n",
    "\n",
    "Q = 8332\n",
    "\n",
    "f0 = 50095.63 * un.hz\n",
    "w0 = f0 *2 * np.pi\n",
    "\n",
    "\n"
   ]
  },
  {
   "cell_type": "code",
   "execution_count": 2,
   "id": "b1781652",
   "metadata": {},
   "outputs": [],
   "source": [
    "import sympy as sp"
   ]
  },
  {
   "cell_type": "code",
   "execution_count": 8,
   "id": "bd2df471",
   "metadata": {},
   "outputs": [
    {
     "name": "stdout",
     "output_type": "stream",
     "text": [
      "R w L C C2\n"
     ]
    }
   ],
   "source": [
    "R, w, L, C, C2 = sp.symbols(\"R w L C C2\", real=True)\n",
    "print(R, w, L, C, C2)"
   ]
  },
  {
   "cell_type": "code",
   "execution_count": 9,
   "id": "0a0825e0",
   "metadata": {},
   "outputs": [],
   "source": [
    "Z1 = R + sp.I * (w*L - 1/(w*C))\n",
    "Z2 = -sp.I / (w*C2)\n",
    "Z = Z1 + Z2"
   ]
  },
  {
   "cell_type": "code",
   "execution_count": 10,
   "id": "4f88006f",
   "metadata": {},
   "outputs": [
    {
     "data": {
      "text/latex": [
       "$\\displaystyle R + i \\left(L w - \\frac{1}{C w}\\right) - \\frac{i}{C_{2} w}$"
      ],
      "text/plain": [
       "R + I*(L*w - 1/(C*w)) - I/(C2*w)"
      ]
     },
     "execution_count": 10,
     "metadata": {},
     "output_type": "execute_result"
    }
   ],
   "source": [
    "Z"
   ]
  },
  {
   "cell_type": "code",
   "execution_count": 13,
   "id": "a419f0e8",
   "metadata": {},
   "outputs": [
    {
     "data": {
      "text/latex": [
       "$\\displaystyle \\frac{C C_{2} R_{1} w}{C C_{2} R w + C C_{2} R_{1} w + i \\left(C C_{2} L w^{2} - C - C_{2}\\right)}$"
      ],
      "text/plain": [
       "C*C2*R1*w/(C*C2*R*w + C*C2*R1*w + I*(C*C2*L*w**2 - C - C2))"
      ]
     },
     "execution_count": 13,
     "metadata": {},
     "output_type": "execute_result"
    }
   ],
   "source": [
    "R1, Vo, Vi = sp.symbols(\"R1 Vo Vi\", real=True)\n",
    "T = R1/(R1 + Z)\n",
    "T.factor(sp.I)"
   ]
  },
  {
   "cell_type": "code",
   "execution_count": null,
   "id": "d0bb24dc",
   "metadata": {},
   "outputs": [],
   "source": []
  }
 ],
 "metadata": {
  "kernelspec": {
   "display_name": "Python 3",
   "language": "python",
   "name": "python3"
  },
  "language_info": {
   "codemirror_mode": {
    "name": "ipython",
    "version": 3
   },
   "file_extension": ".py",
   "mimetype": "text/x-python",
   "name": "python",
   "nbconvert_exporter": "python",
   "pygments_lexer": "ipython3",
   "version": "3.8.5"
  }
 },
 "nbformat": 4,
 "nbformat_minor": 5
}
