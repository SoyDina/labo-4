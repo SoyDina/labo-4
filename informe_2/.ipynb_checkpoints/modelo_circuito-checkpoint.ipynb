{
 "cells": [
  {
   "cell_type": "code",
   "execution_count": 2,
   "id": "a5206ff5",
   "metadata": {},
   "outputs": [],
   "source": [
    "import numpy as np\n",
    "import matplotlib.pyplot as plt\n",
    "import pint"
   ]
  },
  {
   "cell_type": "code",
   "execution_count": 6,
   "id": "8e2282f1",
   "metadata": {},
   "outputs": [
    {
     "data": {
      "text/html": [
       "10000 ohm"
      ],
      "text/latex": [
       "$10000\\ \\mathrm{ohm}$"
      ],
      "text/plain": [
       "10000 <Unit('ohm')>"
      ]
     },
     "execution_count": 6,
     "metadata": {},
     "output_type": "execute_result"
    }
   ],
   "source": [
    "un = pint.UnitRegistry()\n",
    "\n",
    "Q = 8300\n",
    "\n",
    "Z1 = "
   ]
  },
  {
   "cell_type": "code",
   "execution_count": null,
   "id": "b1781652",
   "metadata": {},
   "outputs": [],
   "source": []
  }
 ],
 "metadata": {
  "kernelspec": {
   "display_name": "Python 3",
   "language": "python",
   "name": "python3"
  },
  "language_info": {
   "codemirror_mode": {
    "name": "ipython",
    "version": 3
   },
   "file_extension": ".py",
   "mimetype": "text/x-python",
   "name": "python",
   "nbconvert_exporter": "python",
   "pygments_lexer": "ipython3",
   "version": "3.8.5"
  }
 },
 "nbformat": 4,
 "nbformat_minor": 5
}
