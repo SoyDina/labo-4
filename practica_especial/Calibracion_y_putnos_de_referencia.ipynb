{
 "cells": [
  {
   "cell_type": "code",
   "execution_count": 1,
   "id": "f99678f4",
   "metadata": {},
   "outputs": [],
   "source": [
    "import numpy as np\n",
    "import matplotlib.pyplot as plt\n",
    "from scipy.stats import poisson\n",
    "from scipy.optimize import curve_fit"
   ]
  },
  {
   "cell_type": "code",
   "execution_count": 2,
   "id": "2778f81f",
   "metadata": {},
   "outputs": [],
   "source": [
    "cal1 = np.loadtxt(\"data/simple/calibracion_1ms.dat\")\n",
    "cal2 = np.loadtxt(\"data/simple/calibracion_2ms.dat\")\n",
    "cal5 = np.loadtxt(\"data/simple/calibracion_5ms.dat\")\n",
    "offset = 105.75757575757576 \n",
    "escala  = 2.1969696969696972"
   ]
  },
  {
   "cell_type": "markdown",
   "id": "5c2c4f95",
   "metadata": {},
   "source": [
    "## Calibracion 1ms"
   ]
  },
  {
   "cell_type": "code",
   "execution_count": 3,
   "id": "65627156",
   "metadata": {},
   "outputs": [
    {
     "data": {
      "application/vnd.jupyter.widget-view+json": {
       "model_id": "a374d25fcc41404bb332d1e33e81ec89",
       "version_major": 2,
       "version_minor": 0
      },
      "text/plain": [
       "Canvas(toolbar=Toolbar(toolitems=[('Home', 'Reset original view', 'home', 'home'), ('Back', 'Back to previous …"
      ]
     },
     "metadata": {},
     "output_type": "display_data"
    },
    {
     "name": "stdout",
     "output_type": "stream",
     "text": [
      "0.014192828797426012 x ideal 9\n"
     ]
    }
   ],
   "source": [
    "%matplotlib widget\n",
    "\n",
    "med0 = (cal1[:,0] - offset)/escala\n",
    "med1 = (cal1[:,1] - offset)/escala\n",
    "\n",
    "hist0, bin_edges0 = np.histogram(med0, bins=np.arange(-10,80,1,dtype=int), density=True)\n",
    "hist1, bin_edges1 = np.histogram(med1, bins=np.arange(-10,80,1,dtype=int), density=True)\n",
    "\n",
    "x0 = bin_edges0[:-1]+0.5\n",
    "x1 = bin_edges1[:-1]+0.5\n",
    "\n",
    "prom0 = np.sum(x0*hist0)\n",
    "prom1 = np.sum(x1*hist1)\n",
    "\n",
    "x_pois = np.arange(0, 80, 1)\n",
    "\n",
    "\n",
    "y_pois0 = poisson.pmf(x_pois, prom0)\n",
    "y_pois1 = poisson.pmf(x_pois, prom1)\n",
    "\n",
    "plt.figure(figsize = (15,7), facecolor = 'w')\n",
    "plt.axvline(prom0, alpha=0.5, linestyle=\"dotted\")\n",
    "plt.axvline(prom1, alpha=0.5, linestyle=\"dotted\")\n",
    "plt.plot(x_pois, y_pois0, color = \"r\", label=\"Aproximación apagado\")\n",
    "plt.plot(x_pois, y_pois1, color=\"b\", label=\"Aproximación prendido\")\n",
    "plt.plot(x0, hist0, '.', color = \"r\", label= \"Apagados datos\")\n",
    "plt.plot(x1 ,hist1, '.', color = \"b\", label=\"Prendidos datos\")\n",
    "\n",
    "plt.xlabel(\"Fotones\", fontsize=25)\n",
    "plt.ylabel(\"Probabilidad de medir\", fontsize=25)\n",
    "plt.title(\"Exposición 2ms\", fontsize=20)\n",
    "plt.legend(fontsize=20)\n",
    "plt.show()\n",
    "\n",
    "\n",
    "###Minimizacion busco puntos entre 17 y 25 para los cuales integrar las distribuciones de poisson\n",
    "val_medios = np.array([6,7,8,9,10,11,12])\n",
    "int_totales = []\n",
    "for i in val_medios:\n",
    "    int0 = 0\n",
    "    int1 = 0\n",
    "    for j in range(len(x_pois)):\n",
    "        if x_pois[j] <= i:\n",
    "            int1 += y_pois1[j]\n",
    "        else:\n",
    "            int0 += y_pois0[j]\n",
    "    int_totales.append(int0+int1)\n",
    "    #print(int0)\n",
    "        \n",
    "print(min(int_totales), 'x ideal', val_medios[int_totales.index(min(int_totales))])"
   ]
  },
  {
   "cell_type": "markdown",
   "id": "6990b44e",
   "metadata": {},
   "source": [
    "Metodo 1: por donde se curzan las curvas  $\\Longrightarrow$   putno cruce = 9.660\n",
    "\n",
    "\n",
    "Metodo 2: minimizacion de las integrales $\\Longrightarrow$ 9"
   ]
  },
  {
   "cell_type": "markdown",
   "id": "e89bcd84",
   "metadata": {},
   "source": [
    "## Calibracion 2ms"
   ]
  },
  {
   "cell_type": "code",
   "execution_count": 4,
   "id": "a9a1415c",
   "metadata": {},
   "outputs": [
    {
     "data": {
      "application/vnd.jupyter.widget-view+json": {
       "model_id": "756e040574d34b0db0341527c99afa74",
       "version_major": 2,
       "version_minor": 0
      },
      "text/plain": [
       "Canvas(toolbar=Toolbar(toolitems=[('Home', 'Reset original view', 'home', 'home'), ('Back', 'Back to previous …"
      ]
     },
     "metadata": {},
     "output_type": "display_data"
    },
    {
     "name": "stdout",
     "output_type": "stream",
     "text": [
      "0.00019172164189251137 x ideal 19\n"
     ]
    }
   ],
   "source": [
    "%matplotlib widget\n",
    "\n",
    "med0 = (cal2[:,0] - offset)/escala\n",
    "med1 = (cal2[:,1] - offset)/escala\n",
    "\n",
    "hist0, bin_edges0 = np.histogram(med0, bins=np.arange(-10,80,1,dtype=int), density=True)\n",
    "hist1, bin_edges1 = np.histogram(med1, bins=np.arange(-10,80,1,dtype=int), density=True)\n",
    "\n",
    "x0 = bin_edges0[:-1]+0.5\n",
    "x1 = bin_edges1[:-1]+0.5\n",
    "\n",
    "prom0 = np.sum(x0*hist0)\n",
    "prom1 = np.sum(x1*hist1)\n",
    "\n",
    "x_pois = np.arange(0, 80, 1)\n",
    "\n",
    "\n",
    "y_pois0 = poisson.pmf(x_pois, prom0)\n",
    "y_pois1 = poisson.pmf(x_pois, prom1)\n",
    "\n",
    "plt.figure(figsize = (15,7), facecolor = 'w')\n",
    "plt.axvline(prom0, alpha=0.5, linestyle=\"dotted\")\n",
    "plt.axvline(prom1, alpha=0.5, linestyle=\"dotted\")\n",
    "plt.plot(x_pois, y_pois0, color = \"r\", label=\"Aproximación apagado\")\n",
    "plt.plot(x_pois, y_pois1, color=\"b\", label=\"Aproximación prendido\")\n",
    "plt.plot(x0, hist0, '.', color = \"r\", label= \"Apagados datos\")\n",
    "plt.plot(x1 ,hist1, '.', color = \"b\", label=\"Prendidos datos\")\n",
    "\n",
    "plt.xlabel(\"Fotones\", fontsize=25)\n",
    "plt.ylabel(\"Probabilidad de medir\", fontsize=25)\n",
    "plt.title(\"Exposición 2ms\", fontsize=20)\n",
    "plt.legend(fontsize=20)\n",
    "plt.show()\n",
    "\n",
    "\n",
    "###Minimizacion busco puntos entre 17 y 25 para los cuales integrar las distribuciones de poisson\n",
    "val_medios = np.array([17, 18, 19, 20, 21, 22, 23, 24, 25])\n",
    "int_totales = []\n",
    "for i in val_medios:\n",
    "    int0 = 0\n",
    "    int1 = 0\n",
    "    for j in range(len(x_pois)):\n",
    "        if x_pois[j] <= i:\n",
    "            int1 += y_pois1[j]\n",
    "        else:\n",
    "            int0 += y_pois0[j]\n",
    "    int_totales.append(int0+int1)\n",
    "    #print(int0)\n",
    "        \n",
    "print(min(int_totales), 'x ideal', val_medios[int_totales.index(min(int_totales))])"
   ]
  },
  {
   "cell_type": "markdown",
   "id": "e9c1b06c",
   "metadata": {},
   "source": [
    "Metodo 1: por donde se curzan las curvas  $\\Longrightarrow$   putno cruce = 19.385\n",
    "\n",
    "\n",
    "Metodo 2: minimizacion de las integrales $\\Longrightarrow$ 19"
   ]
  },
  {
   "cell_type": "markdown",
   "id": "c4e6e688",
   "metadata": {},
   "source": [
    "## Calibracion 5ms"
   ]
  },
  {
   "cell_type": "code",
   "execution_count": 5,
   "id": "e95d666f",
   "metadata": {},
   "outputs": [
    {
     "data": {
      "application/vnd.jupyter.widget-view+json": {
       "model_id": "ce4bb2eb0ee0497783382b227b6311fc",
       "version_major": 2,
       "version_minor": 0
      },
      "text/plain": [
       "Canvas(toolbar=Toolbar(toolitems=[('Home', 'Reset original view', 'home', 'home'), ('Back', 'Back to previous …"
      ]
     },
     "metadata": {},
     "output_type": "display_data"
    },
    {
     "name": "stdout",
     "output_type": "stream",
     "text": [
      "5.879017572327988e-09 x ideal 47\n"
     ]
    }
   ],
   "source": [
    "%matplotlib widget\n",
    "\n",
    "med0 = (cal5[:,0] - offset)/escala\n",
    "med1 = (cal5[:,1] - offset)/escala\n",
    "\n",
    "hist0, bin_edges0 = np.histogram(med0, bins=np.arange(-10,150,1,dtype=int), density=True)\n",
    "hist1, bin_edges1 = np.histogram(med1, bins=np.arange(-10,150,1,dtype=int), density=True)\n",
    "\n",
    "x0 = bin_edges0[:-1]+0.5\n",
    "x1 = bin_edges1[:-1]+0.5\n",
    "\n",
    "prom0 = np.sum(x0*hist0)\n",
    "prom1 = np.sum(x1*hist1)\n",
    "\n",
    "x_pois = np.arange(0, 150, 1)\n",
    "\n",
    "\n",
    "y_pois0 = poisson.pmf(x_pois, prom0)\n",
    "y_pois1 = poisson.pmf(x_pois, prom1)\n",
    "\n",
    "plt.figure(figsize = (15,7), facecolor = 'w')\n",
    "plt.axvline(prom0, alpha=0.5, linestyle=\"dotted\")\n",
    "plt.axvline(prom1, alpha=0.5, linestyle=\"dotted\")\n",
    "plt.plot(x_pois, y_pois0, color = \"r\", label=\"Aproximación apagado\")\n",
    "plt.plot(x_pois, y_pois1, color=\"b\", label=\"Aproximación prendido\")\n",
    "# plt.plot(x0, hist0, '.', color = \"r\", label= \"Apagados datos\")\n",
    "# plt.plot(x1 ,hist1, '.', color = \"b\", label=\"Prendidos datos\")\n",
    "\n",
    "plt.xlabel(\"Fotones\", fontsize=25)\n",
    "plt.ylabel(\"Probabilidad de medir\", fontsize=25)\n",
    "plt.title(\"Exposición 2ms\", fontsize=20)\n",
    "plt.legend(fontsize=20)\n",
    "plt.show()\n",
    "\n",
    "\n",
    "###Minimizacion busco puntos entre 17 y 25 para los cuales integrar las distribuciones de poisson\n",
    "val_medios = np.arange(20, 100)\n",
    "int_totales = []\n",
    "for i in val_medios:\n",
    "    int0 = 0\n",
    "    int1 = 0\n",
    "    for j in range(len(x_pois)):\n",
    "        if x_pois[j] <= i:\n",
    "            int1 += y_pois1[j]\n",
    "        else:\n",
    "            int0 += y_pois0[j]\n",
    "    int_totales.append(int0+int1)\n",
    "    #print(int0)\n",
    "        \n",
    "print(min(int_totales), 'x ideal', val_medios[int_totales.index(min(int_totales))])"
   ]
  },
  {
   "cell_type": "markdown",
   "id": "0bd380aa",
   "metadata": {},
   "source": [
    "Metodo 1: por donde se curzan las curvas  $\\Longrightarrow$ 47.28\n",
    "\n",
    "\n",
    "Metodo 2: minimizacion de las integrales $\\Longrightarrow$ 47"
   ]
  },
  {
   "cell_type": "markdown",
   "id": "7347713a",
   "metadata": {},
   "source": [
    "# Conclusiones\n",
    "\n",
    "### Para 1ms  $\\Longrightarrow$ 9-10\n",
    "\n",
    "### Para 2ms $\\Longrightarrow$ 19\n",
    "\n",
    "### Para 5ms $\\Longrightarrow$ 47"
   ]
  }
 ],
 "metadata": {
  "kernelspec": {
   "display_name": "Python 3",
   "language": "python",
   "name": "python3"
  },
  "language_info": {
   "codemirror_mode": {
    "name": "ipython",
    "version": 3
   },
   "file_extension": ".py",
   "mimetype": "text/x-python",
   "name": "python",
   "nbconvert_exporter": "python",
   "pygments_lexer": "ipython3",
   "version": "3.8.10"
  }
 },
 "nbformat": 4,
 "nbformat_minor": 5
}
